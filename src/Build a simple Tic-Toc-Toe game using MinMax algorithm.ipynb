{
 "cells": [
  {
   "cell_type": "code",
   "execution_count": 1,
   "metadata": {},
   "outputs": [],
   "source": [
    "import os\n",
    "import sys\n",
    "import glob\n",
    "import warnings\n",
    "import random\n",
    "import numpy as np\n",
    "import pandas as pd\n",
    "import seaborn as sns\n",
    "from time import sleep \n",
    "import tensorflow as tf\n",
    "import matplotlib.pyplot as plt\n",
    "from tensorflow.keras import Sequential\n",
    "from tensorflow.keras.layers import Flatten, Dense\n",
    "from tensorflow.keras.optimizers import Adam\n",
    "from livelossplot import PlotLossesKeras\n",
    "\n",
    "plt.rcParams['figure.figsize'] = (22,8)\n",
    "np.random.seed(30)\n",
    "sns.set_theme(style=\"darkgrid\")\n",
    "physical_devices = tf.config.list_physical_devices('GPU') \n",
    "tf.config.experimental.set_memory_growth(physical_devices[0], True)\n",
    "warnings.filterwarnings('ignore')\n",
    "%matplotlib inline"
   ]
  },
  {
   "cell_type": "code",
   "execution_count": 2,
   "metadata": {},
   "outputs": [],
   "source": [
    "# Tic-Tac-Toe Program using \n",
    "# random number in Python \n",
    "\n",
    "player = 1\n",
    "opponent = 2\n",
    "\n",
    "def create_board_payer_wins(): \n",
    "\treturn(np.array([[1, 2, 0], \n",
    "                     [1, 0, 2], \n",
    "                     [1, 0, 2]])) \n",
    " \n",
    "def create_board_opponent_wins(): \n",
    "\treturn(np.array([ [1, 2, 0],\n",
    "                    [0, 2, 2],\n",
    "                    [1, 2, 1]])) \n",
    "def create_board1(): \n",
    "\treturn(np.array([ [0, 0, 2],\n",
    "                    [1, 2, 0],\n",
    "                    [0, 1, 0]])) \n",
    " \n",
    "# Creates an empty board \n",
    "def create_random_board(): \n",
    "\treturn(np.array([np.random.randint(0,3,3), \n",
    "\t\t\t\t\tnp.random.randint(0,3,3), \n",
    "\t\t\t\t\tnp.random.randint(0,3,3)])) \n",
    " \n",
    "def isMoveLeft(board):\n",
    "  return np.amin(board) == 0\n",
    "\n",
    "def evaluate(board):\n",
    "  for row in range(3):\n",
    "    if board[row][0] == board[row][1] and board[row][1] == board[row][2]:\n",
    "      if board[row][0] == player:\n",
    "        return +10\n",
    "      elif  board[row][0] == opponent:\n",
    "        return -10;  \n",
    "  for col in range(3):\n",
    "    if board[0][col] == board[1][col] and board[1][col] == board[2][col]:\n",
    "      if board[0][col] == player:\n",
    "        return +10\n",
    "      elif  board[0][col] == opponent:\n",
    "        return -10;    \n",
    "  if board[0][0] == board[1][1] and board[1][1] == board[2][2]:\n",
    "    if board[0][0] == player:\n",
    "        return +10; \n",
    "    elif board[0][0] == opponent:\n",
    "      return -10; \n",
    "  \n",
    "  if board[0][2] == board[1][1] and board[1][1] == board[2][0]:\n",
    "    if board[0][2] == player:\n",
    "      return +10; \n",
    "    elif board[0][2] == opponent:\n",
    "      return -10;         \n",
    "  return 0;      \n",
    "\n",
    "def minmax(board, depth, isMax):\n",
    "  score = evaluate(board)\n",
    "  if score == 10:\n",
    "    return score\n",
    "  if score == -10:\n",
    "    return score\n",
    "  if isMoveLeft(board)==False:\n",
    "    return 0\n",
    "  if isMax:\n",
    "    best = -1000\n",
    "    for i in range(3):\n",
    "      for j in range(3):\n",
    "        if board[i][j] == 0:\n",
    "          board[i][j]=player\n",
    "          best = max(best, minmax(board, depth+1, not isMax))\n",
    "          board[i][j]=0\n",
    "    return best\n",
    "  else:\n",
    "    best = 1000\n",
    "    for i in range(3):\n",
    "      for j in range(3):\n",
    "        if board[i][j] == 0:\n",
    "          board[i][j]=opponent\n",
    "          best = min(best, minmax(board, depth+1, not isMax))\n",
    "          board[i][j]=0\n",
    "    return best\n",
    "\n",
    "def findBestMove(board):  \n",
    "  bestVal = -1000\n",
    "  bestMoveRow = -1\n",
    "  bestMoveCol = -1\n",
    "  if evaluate(board) == 0:\n",
    "    for i in range(3):\n",
    "      for j in range(3):\n",
    "        if board[i][j] == 0:\n",
    "          board[i][j] = player\n",
    "          moveVal = minmax(board, 0, False)\n",
    "          board[i][j] = 0\n",
    "          if moveVal > bestVal:\n",
    "            bestVal = moveVal\n",
    "            bestMoveRow = i\n",
    "            bestMoveCol = j\n",
    "  return np.array([bestVal, bestMoveRow, bestMoveCol])"
   ]
  },
  {
   "cell_type": "code",
   "execution_count": 3,
   "metadata": {},
   "outputs": [
    {
     "name": "stdout",
     "output_type": "stream",
     "text": [
      "Flat Board [ 1  1  1  1  0  0  2  1  1 -1]\n"
     ]
    }
   ],
   "source": [
    "board = create_random_board()\n",
    "\n",
    "bestMove = findBestMove(board)\n",
    "if bestMove[0] == -1000:\n",
    "  flatBoard = np.append(board.flatten(),[-1])\n",
    "else:\n",
    "  flatBoard = np.append(board.flatten(),[3 * bestMove[1] + bestMove[2]])\n",
    "print(\"Flat Board\", flatBoard)\n"
   ]
  },
  {
   "cell_type": "code",
   "execution_count": 4,
   "metadata": {},
   "outputs": [],
   "source": [
    "def make_model(in_shape, class_count=4, layers=[20, 10]):\n",
    "  model = Sequential([\n",
    "      Flatten(input_shape=(in_shape,)),\n",
    "      *[Dense(l, activation=\"relu\") for l in layers],\n",
    "      Dense(class_count, activation='softmax')\n",
    "  ])\n",
    " \n",
    "  model.compile(loss='categorical_crossentropy', optimizer=Adam(learning_rate=0.01), metrics=['accuracy'])\n",
    " \n",
    "  return model\n",
    " \n",
    "model = make_model(9,10)"
   ]
  },
  {
   "cell_type": "code",
   "execution_count": 5,
   "metadata": {},
   "outputs": [],
   "source": [
    "def create_board_with_best_move():\n",
    "  board = create_random_board()\n",
    "  flatBoard = board.flatten()\n",
    "  bestMove = findBestMove(board)\n",
    "  if bestMove[0] == -1000:\n",
    "    flatBoard = np.append(board.flatten(),[0])\n",
    "  else:\n",
    "    flatBoard = np.append(board.flatten(),[3 * bestMove[1] + bestMove[2]+1])\n",
    "  return flatBoard\n",
    "def random_data(sample_size = 1):\n",
    "  return [create_board_with_best_move() for _ in range(sample_size)]\n"
   ]
  },
  {
   "cell_type": "code",
   "execution_count": 6,
   "metadata": {},
   "outputs": [],
   "source": [
    "from sklearn.preprocessing import MinMaxScaler\n",
    "scaler=MinMaxScaler()\n",
    "def split(data):  \n",
    "  return np.array(scaler.fit_transform([d[:9] for d in data])), np.eye(10)[np.array([d[9] for d in data])]"
   ]
  },
  {
   "cell_type": "code",
   "execution_count": 7,
   "metadata": {},
   "outputs": [
    {
     "name": "stdout",
     "output_type": "stream",
     "text": [
      "(array([[1. , 0.5, 1. , 0.5, 0. , 0.5, 1. , 1. , 0. ],\n",
      "       [0. , 1. , 0. , 0. , 1. , 1. , 1. , 0. , 0. ],\n",
      "       [1. , 0. , 1. , 1. , 0. , 0. , 0. , 1. , 1. ],\n",
      "       [0.5, 0. , 1. , 0. , 0. , 0.5, 0. , 0. , 0. ],\n",
      "       [0. , 1. , 0. , 0.5, 1. , 0. , 0. , 0. , 1. ]]), array([[1., 0., 0., 0., 0., 0., 0., 0., 0., 0.],\n",
      "       [0., 1., 0., 0., 0., 0., 0., 0., 0., 0.],\n",
      "       [1., 0., 0., 0., 0., 0., 0., 0., 0., 0.],\n",
      "       [1., 0., 0., 0., 0., 0., 0., 0., 0., 0.],\n",
      "       [0., 1., 0., 0., 0., 0., 0., 0., 0., 0.]]))\n"
     ]
    }
   ],
   "source": [
    "sampleData=random_data(5)\n",
    "print(split(sampleData))"
   ]
  },
  {
   "cell_type": "code",
   "execution_count": 8,
   "metadata": {},
   "outputs": [
    {
     "name": "stdout",
     "output_type": "stream",
     "text": [
      "[0.  0.  0.  0.5 0.  0.  0.5 0.5 0. ]\n",
      "[0. 1. 0. 0. 0. 0. 0. 0. 0. 0.]\n"
     ]
    }
   ],
   "source": [
    "train_data, train_labels = split(random_data(20000))\n",
    "print(train_data[1])\n",
    "print(train_labels[1])"
   ]
  },
  {
   "cell_type": "code",
   "execution_count": 9,
   "metadata": {},
   "outputs": [
    {
     "data": {
      "image/png": "[encoded data removed]",
      "text/plain": [
       "<Figure size 864x576 with 2 Axes>"
      ]
     },
     "metadata": {
      "needs_background": "light"
     },
     "output_type": "display_data"
    },
    {
     "name": "stdout",
     "output_type": "stream",
     "text": [
      "accuracy\n",
      "\ttraining         \t (min:    0.501, max:    0.648, cur:    0.648)\n",
      "\tvalidation       \t (min:    0.585, max:    0.652, cur:    0.650)\n",
      "Loss\n",
      "\ttraining         \t (min:    0.909, max:    1.482, cur:    0.909)\n",
      "\tvalidation       \t (min:    0.924, max:    1.208, cur:    0.926)\n",
      "125/125 [==============================] - 1s 5ms/step - loss: 0.9091 - accuracy: 0.6484 - val_loss: 0.9262 - val_accuracy: 0.6503\n"
     ]
    },
    {
     "data": {
      "text/plain": [
       "<tensorflow.python.keras.callbacks.History at 0x1c64f442a88>"
      ]
     },
     "execution_count": 9,
     "metadata": {},
     "output_type": "execute_result"
    }
   ],
   "source": [
    "model.fit(train_data, train_labels, epochs=20, batch_size=128, callbacks=[PlotLossesKeras()], shuffle=True, validation_split=.2)"
   ]
  },
  {
   "cell_type": "code",
   "execution_count": 10,
   "metadata": {},
   "outputs": [],
   "source": [
    "model = make_model(9, 10, [100, 100, 100])"
   ]
  },
  {
   "cell_type": "code",
   "execution_count": 11,
   "metadata": {},
   "outputs": [
    {
     "name": "stdout",
     "output_type": "stream",
     "text": [
      "WARNING:tensorflow:From <ipython-input-11-3ac8cdfd6fb1>:3: Sequential.predict_classes (from tensorflow.python.keras.engine.sequential) is deprecated and will be removed after 2021-01-01.\n",
      "Instructions for updating:\n",
      "Please use instead:* `np.argmax(model.predict(x), axis=-1)`,   if your model does multi-class classification   (e.g. if it uses a `softmax` last-layer activation).* `(model.predict(x) > 0.5).astype(\"int32\")`,   if your model does binary classification   (e.g. if it uses a `sigmoid` last-layer activation).\n",
      "[0.5 1.  0.  1.  1.  1.  0.5 0.5 0. ] => 3\n",
      "[0.  0.5 1.  0.5 0.5 0.5 0.5 0.5 0. ] => 3\n",
      "[0.5 1.  0.5 0.5 1.  0.  1.  0.  0.5] => 3\n",
      "[0.  0.  0.  0.  1.  0.5 0.  1.  0.5] => 3\n",
      "[0.  0.5 0.  0.5 0.5 0.  1.  0.5 0.5] => 3\n",
      "[1.  1.  0.  0.5 0.  1.  0.5 1.  0. ] => 3\n",
      "[0.5 1.  0.5 0.5 1.  1.  1.  0.5 0. ] => 3\n",
      "[1.  0.  1.  0.5 1.  0.  0.  1.  0.5] => 3\n",
      "[1.  1.  1.  1.  1.  0.5 0.  0.  0.5] => 3\n",
      "[0.  0.  1.  0.5 0.5 0.5 1.  0.5 1. ] => 3\n"
     ]
    }
   ],
   "source": [
    "data = random_data(10)\n",
    "test_data, test_label = split(data)\n",
    "model_prediction = model.predict_classes(test_data)\n",
    "for td, mp in zip(test_data, model_prediction):\n",
    "  print(td, \"=>\", mp)"
   ]
  },
  {
   "cell_type": "code",
   "execution_count": null,
   "metadata": {},
   "outputs": [],
   "source": []
  }
 ],
 "metadata": {
  "kernelspec": {
   "display_name": "Python 3",
   "language": "python",
   "name": "python3"
  },
  "language_info": {
   "codemirror_mode": {
    "name": "ipython",
    "version": 3
   },
   "file_extension": ".py",
   "mimetype": "text/x-python",
   "name": "python",
   "nbconvert_exporter": "python",
   "pygments_lexer": "ipython3",
   "version": "3.7.9"
  }
 },
 "nbformat": 4,
 "nbformat_minor": 4
}
